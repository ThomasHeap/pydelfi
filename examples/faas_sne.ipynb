{
 "cells": [
  {
   "cell_type": "markdown",
   "metadata": {
    "slideshow": {
     "slide_type": "slide"
    }
   },
   "source": [
    "## Import your stuff"
   ]
  },
  {
   "cell_type": "code",
   "execution_count": 1,
   "metadata": {
    "slideshow": {
     "slide_type": "-"
    }
   },
   "outputs": [],
   "source": [
    "import numpy as np\n",
    "import matplotlib.pyplot as plt\n",
    "import simulators.faas.simulator as faas\n",
    "import pydelfi.ndes as ndes\n",
    "import pydelfi.delfi as delfi\n",
    "import pydelfi.score as score\n",
    "import pydelfi.priors as priors\n",
    "import tensorflow as tf\n",
    "import rpy2.robjects.numpy2ri\n",
    "from rpy2.robjects import rinterface, r, IntVector, FloatVector, StrVector\n",
    "import logging\n",
    "logging.getLogger('faas').setLevel(logging.ERROR)\n",
    "logging.getLogger('delfi').setLevel(logging.ERROR)\n",
    "rpy2.robjects.numpy2ri.activate()\n",
    "tf.logging.set_verbosity(tf.logging.ERROR)\n",
    "%matplotlib inline\n",
    "seed = 20"
   ]
  },
  {
   "cell_type": "code",
   "execution_count": 2,
   "metadata": {},
   "outputs": [],
   "source": [
    "#get batch arguments\n",
    "batch = 'Whole'\n",
    "if batch not in ['A','B','C','D','E','F','G', 'Whole']:\n",
    "    print(\"Pass a valid batch letter\")\n",
    "\n",
    "\n",
    "batch_ids = {'A':[0,12,'A'],'B':[13,23,'B'],'C':[24,34,'C'],'D':[35,50,'D'],'E':[51,64,'E'],'F':[65,79,'F'],'G':[80,93,'G'], 'Whole': [0,93,'Whole']}\n",
    "batch_min, batch_max, let = batch_ids[batch][0], batch_ids[batch][1], batch_ids[batch][2]"
   ]
  },
  {
   "cell_type": "markdown",
   "metadata": {
    "slideshow": {
     "slide_type": "slide"
    }
   },
   "source": [
    "## Set up the prior"
   ]
  },
  {
   "cell_type": "markdown",
   "metadata": {
    "slideshow": {
     "slide_type": "notes"
    }
   },
   "source": [
    "Last working prior\n",
    "upper = np.array([7.700001e+08,  8.400001e+07,  3.200001e+10,  2.500001e+07,  1.600001e+05,\n",
    "  2.600001e+03,  2.200001e+04,  6.500001e+00,  8.886492e+00,  7.924280e+00,\n",
    "  1.050516e+01,  7.397941e+00, -3.682371e+00, -4.509306e+00, -6.162727e+00,\n",
    " -6.585027e+00,  1.100001e-03, -3.900000e-01])\n",
    "lower = np.array([7.700000e+08,  8.400000e+07,  3.200000e+10,  2.500000e+07,  1.600000e+05,\n",
    "  2.600000e+03,  2.200000e+04,  6.500000e+00,  8.886491e+00,  7.924279e+00,\n",
    "  1.050515e+01,  7.397940e+00, -3.682372e+00, -4.509307e+00, -6.162728e+00,\n",
    " -6.585028e+00,  1.100000e-03, -3.900001e-01])"
   ]
  },
  {
   "cell_type": "code",
   "execution_count": 3,
   "metadata": {},
   "outputs": [],
   "source": [
    "upper = np.array([12,  12,\n",
    "  12,  12, -2, -2, -2,\n",
    " -2])\n",
    "lower = np.array([6,  6,\n",
    "  6,  6, -8, -8, -8,\n",
    " -8])\n",
    "\n",
    "prior_mean = np.array([1.1e-03, -3.9e-01])\n",
    "prior_cov = np.diag(np.array([(0.0011*0.2)**2, (-0.39*0.2)**2]))\n",
    "\n",
    "prior = priors.Gaussian_Unif(prior_mean, prior_cov, lower, upper, 2)\n",
    "\n",
    "epsilon_mean = np.array([0]*94)\n",
    "epsilon_cov = np.diag(np.array([0.1 ** 2] * 94))\n",
    "epsilon_prior = priors.Gaussian(epsilon_mean, epsilon_cov)"
   ]
  },
  {
   "cell_type": "markdown",
   "metadata": {
    "slideshow": {
     "slide_type": "slide"
    }
   },
   "source": [
    "## Set up the simulator\n",
    "This must have the signature `simulator(parameters, seed, args, batch)` -> `np.array([batch, ndata])`"
   ]
  },
  {
   "cell_type": "code",
   "execution_count": 4,
   "metadata": {
    "scrolled": true,
    "slideshow": {
     "slide_type": "-"
    }
   },
   "outputs": [],
   "source": [
    "faasSimulator = faas.faas_Model()\n",
    "\n",
    "## repeating last fratio for short rows\n",
    "def simulator(theta, seed, simulator_args, batch):\n",
    "\n",
    "    eps_prior = simulator_args[0]\n",
    "    eps = eps_prior.draw()\n",
    "\n",
    "    return faasSimulator.simulation(np.concatenate([theta, eps]), seed)[batch_min:batch_max,1:]\n",
    "\n",
    "simulator_args = [epsilon_prior]\n"
   ]
  },
  {
   "cell_type": "markdown",
   "metadata": {
    "slideshow": {
     "slide_type": "slide"
    }
   },
   "source": [
    "## Set up the compressor\n",
    "Must have the signature `compressor(data, args)` -> `np.array([n_summaries])`<br>\n",
    "In this case we are going to do Gaussian score compression $$\\mathbf{t} = \\boldsymbol\\theta_* + \\mathbf{F}^{-1}\\nabla_\\theta^T\\boldsymbol\\mu_*\\mathbf{C}^{-1}(\\mathbf{d}-\\boldsymbol\\mu_*)$$ using the class `score.Gaussian`. For this we'll need some fiducial parameters, the mean its derivative at the fiducial parameters, the inverse covariance, and the inverse Fisher matrix"
   ]
  },
  {
   "cell_type": "code",
   "execution_count": 5,
   "metadata": {},
   "outputs": [],
   "source": [
    "def compressor(d, compressor_args):\n",
    "    comp_d = []\n",
    "\n",
    "    for i in d:\n",
    "        #mean of final ten entries\n",
    "        final = np.mean(i[-10:])\n",
    "        #median of 3 highest points\n",
    "        peak = np.median(np.sort(i)[-3:])\n",
    "        #time to peak\n",
    "        time_peak = np.argmax(i == peak)\n",
    "        sd = np.std(i[-10:])\n",
    "        #time to final\n",
    "        time_final = np.argmax(np.logical_and((i[time_peak:] >= final - sd),(i[time_peak:] <= final + sd)) == True) + time_peak\n",
    "        comp_d.append([final, peak, time_peak, time_final])\n",
    "    return np.asarray(comp_d).flatten()\n",
    "compressor_args=None\n",
    "\n",
    "\n"
   ]
  },
  {
   "cell_type": "markdown",
   "metadata": {
    "slideshow": {
     "slide_type": "slide"
    }
   },
   "source": [
    "## Load in the compressed data"
   ]
  },
  {
   "cell_type": "code",
   "execution_count": 6,
   "metadata": {},
   "outputs": [],
   "source": [
    "compressed_data = compressor(faasSimulator.data()[batch_min:batch_max], compressor_args)\n",
    "\n",
    "ndata = len(compressed_data)\n"
   ]
  },
  {
   "cell_type": "markdown",
   "metadata": {
    "slideshow": {
     "slide_type": "slide"
    }
   },
   "source": [
    "## Load in data"
   ]
  },
  {
   "cell_type": "code",
   "execution_count": 7,
   "metadata": {},
   "outputs": [],
   "source": [
    "data = faasSimulator.data()[:12,:]\n"
   ]
  },
  {
   "cell_type": "markdown",
   "metadata": {
    "slideshow": {
     "slide_type": "slide"
    }
   },
   "source": [
    "## Define ensemble of NDEs"
   ]
  },
  {
   "cell_type": "code",
   "execution_count": 8,
   "metadata": {},
   "outputs": [
    {
     "name": "stdout",
     "output_type": "stream",
     "text": [
      "\n",
      "WARNING: The TensorFlow contrib module will not be included in TensorFlow 2.0.\n",
      "For more information, please see:\n",
      "  * https://github.com/tensorflow/community/blob/master/rfcs/20180907-contrib-sunset.md\n",
      "  * https://github.com/tensorflow/addons\n",
      "If you depend on functionality not listed there, please file an issue.\n",
      "\n"
     ]
    }
   ],
   "source": [
    "NDEs = [ndes.ConditionalMaskedAutoregressiveFlow(n_parameters=10, n_data=ndata, n_hiddens=[50,50], n_mades=5, act_fun=tf.tanh, index=0),\n",
    "        ndes.MixtureDensityNetwork(n_parameters=10, n_data=ndata, n_components=1, n_hidden=[30,30], activations=[tf.tanh, tf.tanh], index=1),\n",
    "        ndes.MixtureDensityNetwork(n_parameters=10, n_data=ndata, n_components=2, n_hidden=[30,30], activations=[tf.tanh, tf.tanh], index=2),\n",
    "        ndes.MixtureDensityNetwork(n_parameters=10, n_data=ndata, n_components=3, n_hidden=[30,30], activations=[tf.tanh, tf.tanh], index=3),\n",
    "        ndes.MixtureDensityNetwork(n_parameters=10, n_data=ndata, n_components=4, n_hidden=[30,30], activations=[tf.tanh, tf.tanh], index=4),\n",
    "        ndes.MixtureDensityNetwork(n_parameters=10, n_data=ndata, n_components=5, n_hidden=[30,30], activations=[tf.tanh, tf.tanh], index=5)]"
   ]
  },
  {
   "cell_type": "markdown",
   "metadata": {
    "slideshow": {
     "slide_type": "slide"
    }
   },
   "source": [
    "## Create DELFI object"
   ]
  },
  {
   "cell_type": "code",
   "execution_count": null,
   "metadata": {},
   "outputs": [],
   "source": [
    "DelfiEnsemble = delfi.Delfi(compressed_data, prior, NDEs,\n",
    "                       param_names = ['logKonTN', 'logKonTC', 'logKonRN', 'logKonRC', 'logKDTN', 'logKDTC', 'logKDRN', 'logKDRC', 'malpha', 'alpha0'],\n",
    "                       results_dir = \"results_batch_\" + let + \"/\", save = False)"
   ]
  },
  {
   "cell_type": "markdown",
   "metadata": {
    "slideshow": {
     "slide_type": "slide"
    }
   },
   "source": [
    "## Fisher pre-training to initialize the NDEs"
   ]
  },
  {
   "cell_type": "markdown",
   "metadata": {
    "slideshow": {
     "slide_type": "slide"
    }
   },
   "source": [
    "## Sequential Neural Likelihood"
   ]
  },
  {
   "cell_type": "code",
   "execution_count": null,
   "metadata": {
    "scrolled": true
   },
   "outputs": [],
   "source": []
  },
  {
   "cell_type": "markdown",
   "metadata": {},
   "source": [
    "## Sample the learned posterior"
   ]
  },
  {
   "cell_type": "code",
   "execution_count": null,
   "metadata": {},
   "outputs": [],
   "source": [
    "#pst = DelfiEnsemble.emcee_sample()\n",
    "pst = np.load('simulators/faas/pst_samples_' + let + '.npy')\n",
    "time = np.genfromtxt('simulators/faas/data/time_points.csv', delimiter=',')\n",
    "#sims = simulator(pst[1], seed, simulator_args, 0)\n",
    "#data = faasSimulator.data()[batch_min:batch_max,:]\n",
    "\n",
    "print(pst[49])\n",
    "#fig,ax = plt.subplots(1,2) \n",
    "\n",
    "#for i in range(len(sims)):\n",
    "#    ax[0].plot(time, data[i])\n",
    "#    ax[1].plot(time, sims[i])\n",
    "\n",
    "\n",
    "#plt.show()"
   ]
  },
  {
   "cell_type": "code",
   "execution_count": null,
   "metadata": {},
   "outputs": [],
   "source": [
    "#pst = np.unique(pst, axis=0)\n",
    "pst1 = pst[np.abs(pst[:,0]) < 13] #Discard any obviously wrong samples (write better func to do this)\n",
    "print(pst1.shape)"
   ]
  },
  {
   "cell_type": "code",
   "execution_count": null,
   "metadata": {},
   "outputs": [],
   "source": [
    "plt.scatter(np.log(pst[0,:]), np.log(pst[3,:]))\n",
    "plt.show()"
   ]
  },
  {
   "cell_type": "markdown",
   "metadata": {},
   "source": [
    "## Alright let's plot it!\n",
    "Feed it a list of `(n_samples, n_parameters)` arrays for making a triangle plot; in this case let's just plot the posterior samples."
   ]
  },
  {
   "cell_type": "code",
   "execution_count": null,
   "metadata": {},
   "outputs": [],
   "source": [
    "DelfiEnsemble.triangle_plot(samples=[pst], savefig=True, filename='batch_' + let + '.pdf')"
   ]
  },
  {
   "cell_type": "markdown",
   "metadata": {},
   "source": [
    "## Calibration"
   ]
  },
  {
   "cell_type": "code",
   "execution_count": null,
   "metadata": {},
   "outputs": [],
   "source": [
    "# rank = np.zeros(10,9)\n",
    "\n",
    "# for i in range(N):\n",
    "#     ps = prior.draw()\n",
    "#     sims = simulator(ps, 0, simulator_args, 1)\n",
    "#     DelfiEnsemble = delfi.Delfi(sims, prior, NDEs, \n",
    "#                        param_limits = [lower, upper],\n",
    "#                        param_names = ['logK_on_TN', 'logK_on_TC', 'logK_on_RN', 'logK_on_RC', 'logK_D_TN', 'logK_D_TC', 'logK_D_RN', 'logK_D_RC', 'm_alpha', 'alpha0'],\n",
    "#                        results_dir = \"simulators/faas/calib/\", save = False)\n",
    "\n",
    "    \n",
    "    \n",
    "#     n_initial = 100\n",
    "#     n_batch = 10\n",
    "#     n_populations = 1\n",
    "\n",
    "#     DelfiEnsemble.sequential_training(simulator, compressor, n_initial, n_batch, n_populations, patience=2., save_intermediate_posteriors=False, simulator_args=simulator_args)\n",
    "#     pst = DelfiEnsemble.emcee_sample()[:9]\n",
    "#     for j in range(18):\n",
    "#         for l in range(9):\n",
    "#             rank[j,l] += np.sum(pst[l][j] < ps[j])\n",
    "        \n",
    "    \n",
    "        \n",
    "\n"
   ]
  }
 ],
 "metadata": {
  "celltoolbar": "Slideshow",
  "kernelspec": {
   "display_name": "Python 3",
   "language": "python",
   "name": "python3"
  },
  "language_info": {
   "codemirror_mode": {
    "name": "ipython",
    "version": 3
   },
   "file_extension": ".py",
   "mimetype": "text/x-python",
   "name": "python",
   "nbconvert_exporter": "python",
   "pygments_lexer": "ipython3",
   "version": "3.7.3"
  }
 },
 "nbformat": 4,
 "nbformat_minor": 1
}
